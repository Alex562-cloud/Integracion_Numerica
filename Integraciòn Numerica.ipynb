{
 "cells": [
  {
   "cell_type": "markdown",
   "metadata": {},
   "source": [
    "# INTEGRACIÒN NUMÈRICA.    \n",
    "\n",
    "\n",
    "### **Instituto Politècnico Nacional - Escuela Superior de Fìsica y Matemàticas**  \n",
    "\n",
    "#### Mètodos Numèricos II  4MM1  \n",
    "#### Alejandro Felipe Aviles  \n",
    "___\n",
    "En análisis numérico, la integración numérica constituye una amplia gama de algoritmos para calcular el valor numérico de una integral definida y, por extensión, el término se usa a veces para describir algoritmos numéricos para resolver ecuaciones diferenciales. El término cuadratura numérica (a menudo abreviado a **cuadratura**) es más o menos sinónimo de integración numérica, especialmente si se aplica a integrales de una dimensión a pesar de que para el caso de dos o más dimensiones (integral múltiple) también se utiliza.Para ello, se ha desarrollado el siguiente algorimto escrito en **SageMath** donde se calcularàn el **valor exacto, valor aproximado, los errores y la cota de error**."
   ]
  },
  {
   "cell_type": "markdown",
   "metadata": {},
   "source": [
    "**Sintaxis para introducir expresiones matemáticas en SageMath**  \n",
    "+ Usar * para la multiplicaciòn, por ejemplo, $10x$ se introduce como `10*x` \n",
    "+ Las potencias se introducen con `^`  o `**`  por ejemplo, $x^2$ se introduce como `x^2`  o `x**2` \n",
    "+ La funciòn exponencial $e^x$ se introduce como `exp(x)` \n",
    "+ El logaritmo natural $ln(x)$ se introduce como `log(x)` o `ln(x)`  \n",
    "La funciòn `f(x)` es asignada por el usuario desde el còdigo"
   ]
  },
  {
   "cell_type": "markdown",
   "metadata": {},
   "source": [
    "# Regla del trapecio\n",
    "La regla se basa en aproximar el valor de la integral de $f(x)$ por el de la función lineal, que pasa a través de los puntos $(a, f(a))$ y $(b, f(b))$. La integral de ésta es igual al área del trapecio bajo la gráfica de la función lineal.\n",
    "##### Regla del trapecio Simple\n",
    "Para realizar la aproximación por esta regla es necesario usar un polinomio de primer orden, y esta es representada por:\n",
    "$$P_1(x) = f(a) + \\frac{f(b) - f(a)}{b - a}(x - a)$$\n",
    "Entonces al sustituir en la integral tenemos:\n",
    "$$\\begin{align}\n",
    "I & = \\int_a^bf(x)dx \\approx \\int_a^b P_1(x)dx \\\\\n",
    "  & \\approx \\int_a^b\\left[f(a) + \\frac{f(b) - f(a)}{b - a}(x - a)\\right]\n",
    "\\end{align}$$\n",
    "Por último al resolver esa integral nos queda:\n",
    "$$\\int_{a}^{b} f(x)dx \\approx (b-a)\\frac{f(a) + f(b)}{2}$$"
   ]
  },
  {
   "cell_type": "code",
   "execution_count": 6,
   "metadata": {
    "cocalc": {
     "outputs": {
      "1": {
       "name": "input",
       "opts": {
        "password": false,
        "prompt": "Ingrese el limite inferior (a):\n"
       },
       "output_type": "stream",
       "value": "2"
      },
      "2": {
       "name": "input",
       "opts": {
        "password": false,
        "prompt": "Ingrese el limite inferior (b):\n"
       },
       "output_type": "stream",
       "value": "7"
      }
     }
    }
   },
   "outputs": [
    {
     "name": "stdout",
     "output_type": "stream",
     "text": [
      "REGLA TRAPEZOIDAL SIMPLE.\n",
      "Ingrese el limite inferior (a):\n",
      "2\n",
      "Ingrese el limite inferior (b):\n",
      "5\n",
      "Valor aproximado:\n",
      "586345.500000000\n",
      "\n",
      "Valor exacto:\n",
      "216981\n",
      "\n",
      "Error Real:\n",
      "-369364.5\n",
      "\n",
      "Error Porcentual:\n",
      "-62.9943437785\n",
      "\n",
      "Error Aproximado:\n",
      "-1403946.0\n"
     ]
    },
    {
     "data": {
      "image/png": "[encoded data removed]",
      "text/plain": [
       "Graphics object consisting of 2 graphics primitives"
      ]
     },
     "metadata": {},
     "output_type": "display_data"
    }
   ],
   "source": [
    "def regla_trapecio(fcn,a,b,n):\n",
    "\tDeltax = (b-a)*1.0/n\n",
    "\tcoeffs = [2]*(n-1)\n",
    "\tcoeffs = [1]+coeffs+[1]\n",
    "\tvalsf = [fcn(a+Deltax*i) for i in range(n+1)]\n",
    "\treturn (Deltax/2)*sum([coeffs[i]*valsf[i] for i in range(n+1)])\n",
    "print(\"REGLA TRAPEZOIDAL SIMPLE.\")\n",
    "a=int(input(\"Ingrese el limite inferior (a):\\n\"))\n",
    "b=int(input(\"Ingrese el limite inferior (b):\\n\"))\n",
    "n=1 #en el caso de trapecio simple\n",
    "#En la siguiente linea el usuario cambia la funciòn a su conveniencia\n",
    "f(x)=x^8+2*x+1\n",
    "print(\"Valor aproximado:\")\n",
    "print(regla_trapecio(f,a,b,n).n());\n",
    "VA=regla_trapecio(f,a,b,n).n();\n",
    "I=integral(f(x),x,a,b);\n",
    "I1=float(I);\n",
    "print(\"\\nValor exacto:\")\n",
    "print(I)\n",
    "print(\"\\nError Real:\")\n",
    "ER=float(I-VA);\n",
    "print(ER)\n",
    "print(\"\\nError Porcentual:\")\n",
    "EP=float((ER/VA)*100);\n",
    "print(EP)\n",
    "print(\"\\nError Aproximado:\")\n",
    "g(x)=diff(f(x),x);\n",
    "SegDer=float(g(b)-g(a));\n",
    "ErAp=float(-1/12*SegDer*(b-a)^3);\n",
    "print(ErAp);\n",
    "\n",
    "\n",
    "dx=(b-a)/n   #delta x\n",
    "t=plot(f,(a,b),color='blue')\n",
    "for i in [0..n-1]: #sets up the plot\n",
    "    t=t+polygon([(a+i*dx,0),(a+i*dx,f(a+i*dx)),(a+(i+1)*dx,f(a+(i+1)*dx)),(a+(i+1)*dx,0)],alpha=.5,edgecolor='gray')\n",
    "t.show(title='Regla de trapecios',aspect_ratio='automatic')"
   ]
  },
  {
   "cell_type": "markdown",
   "metadata": {},
   "source": [
    "# REGLA DEL TRAPECIO COMPUESTA"
   ]
  },
  {
   "cell_type": "markdown",
   "metadata": {},
   "source": [
    "La regla del trapecio compuesta o regla de los trapecios es una forma de aproximar una integral definida utilizando $n$ trapecios. En la formulación de este método se supone que $f$ es continua y positiva en el intervalo $[a,b]$. De tal modo la integral definida $\\int_a^b f(x)\\, dx$ representa el área de la región delimitada por la gráfica de $f$ y el eje $x$, desde $x=a$ hasta $x=b$. Primero se divide el intervalo $[a,b]$ en $n$ subintervalos, cada uno de ancho  $\\Delta x=(b-a)/n$.\n",
    "\n",
    "Después de realizar todo el proceso matemático se llega a la siguiente fórmula:\n",
    "\n",
    "$$\\int_a^b f(x)\\, dx \\sim \\frac{h}{2} [f(a)+2f(a+h)+2f(a+2h)+...+f(b)]$$\n",
    "Donde $\\textstyle h= \\frac{b-a}{n}$ y $n$ es el número de divisiones.\n",
    "\n",
    "La expresión anterior también se puede escribir como:\n",
    "\n",
    "$$\\int_a^b f(x) dx \\sim \\frac{b-a}{n} \\left[ \\frac{f(a) + f(b)}{2} + \\sum_{k=1}^{n-1} f\\left(a + k \\frac{b-a}{n}\\right) \\right]$$"
   ]
  },
  {
   "cell_type": "code",
   "execution_count": 10,
   "metadata": {
    "cocalc": {
     "outputs": {
      "1": {
       "name": "input",
       "opts": {
        "password": false,
        "prompt": "Ingrese el limite inferior (a):\n"
       },
       "output_type": "stream",
       "value": "2.1"
      },
      "2": {
       "name": "input",
       "opts": {
        "password": false,
        "prompt": "Ingrese el limite inferior (b):\n"
       },
       "output_type": "stream",
       "value": "3.4"
      },
      "3": {
       "name": "input",
       "opts": {
        "password": false,
        "prompt": "Ingrese el numero de intervalos:\n"
       },
       "output_type": "stream",
       "value": "6"
      }
     }
    }
   },
   "outputs": [
    {
     "name": "stdout",
     "output_type": "stream",
     "text": [
      "REGLA TRAPEZOIDAL SIMPLE.\n",
      "Ingrese el limite inferior (a):\n",
      " 2.1Ingrese el limite inferior (b):\n",
      " 3.4Ingrese el numero de intervalos:\n",
      " 6Valor aproximado:\n",
      "6824.84650451902\n",
      "\n",
      "Valor exacto:\n",
      "6666.529191098109\n",
      "6666.529191098109\n",
      "\n",
      "Error Real:\n",
      "-158.3173134209119\n",
      "\n",
      "Error Porcentual:\n",
      "-2.3197197668267453\n",
      "\n",
      "Error Aproximado:\n",
      "-7429.120582786061\n"
     ]
    },
    {
     "data": {
      "image/png": "[encoded data removed]",
      "text/plain": [
       "Graphics object consisting of 7 graphics primitives"
      ]
     },
     "execution_count": 10,
     "metadata": {},
     "output_type": "execute_result"
    }
   ],
   "source": [
    "def trapezoid_rule(fcn,a,b,n):\n",
    "\tDeltax = (b-a)*1.0/n\n",
    "\tcoeffs = [2]*(n-1)\n",
    "\tcoeffs = [1]+coeffs+[1]\n",
    "\tvalsf = [fcn(a+Deltax*i) for i in range(n+1)]\n",
    "\treturn (Deltax/2)*sum([coeffs[i]*valsf[i] for i in range(n+1)])\n",
    "print(\"REGLA TRAPEZOIDAL COMPUESTA.\")\n",
    "a=float(input(\"Ingrese el limite inferior (a):\\n\"))\n",
    "b=float(input(\"Ingrese el limite inferior (b):\\n\"))\n",
    "n=int(input(\"Ingrese el numero de intervalos:\\n\"))\n",
    "f(x)=x^8+2*x+1\n",
    "print(\"Valor aproximado:\")\n",
    "print(trapezoid_rule(f,a,b,n).n());\n",
    "VA=trapezoid_rule(f,a,b,n).n();\n",
    "I=integral(f(x),x,a,b);\n",
    "I1=float(I);\n",
    "print(\"\\nValor exacto:\")\n",
    "print(I)\n",
    "print(I1);\n",
    "print(\"\\nError Real:\")\n",
    "ER=float(I-VA);\n",
    "print(ER)\n",
    "print(\"\\nError Porcentual:\")\n",
    "EP=float((ER/VA)*100);\n",
    "print(EP)\n",
    "print(\"\\nError Aproximado:\")\n",
    "g(x)=diff(f(x),x);\n",
    "SegDer=float(g(b)-g(a));\n",
    "ErAp=float(-1/12*SegDer*(b-a)^2);\n",
    "print(ErAp);\n",
    "\n",
    "dx=(b-a)/n   #delta x\n",
    "t=plot(f,(a,b),color='blue')\n",
    "for i in [0..n-1]: #sets up the plot\n",
    "    t=t+polygon([(a+i*dx,0),(a+i*dx,f(a+i*dx)),(a+(i+1)*dx,f(a+(i+1)*dx)),(a+(i+1)*dx,0)],alpha=.5,edgecolor='gray')\n",
    "t.show(title='Regla de trapecios',aspect_ratio='automatic')"
   ]
  },
  {
   "cell_type": "markdown",
   "metadata": {},
   "source": [
    "# REGLA DE SIMPSON $\\frac{1}{3}$ SIMPLE.   \n",
    "La función interpoladora puede ser un polinomio de grado 2 que pasa a través de los puntos $(a, f(a))$, $(\\frac{a+b}{2}, f(\\frac{a+b}{2}))$ y $(b, f(b))$. Este método se llama regla de Simpson:  $$\\int_{a}^{b} f(x) \\, dx \\approx \\frac{b-a}{6}\\left[f(a) + 4f\\left(\\frac{a+b}{2}\\right)+f(b)\\right]$$."
   ]
  },
  {
   "cell_type": "code",
   "execution_count": 55,
   "metadata": {
    "cocalc": {
     "outputs": {
      "0": {
       "name": "input",
       "opts": {
        "password": false,
        "prompt": "Ingrese el limite inferior (a):\n"
       },
       "output_type": "stream",
       "value": "5"
      },
      "1": {
       "name": "input",
       "opts": {
        "password": false,
        "prompt": "INgrese el limite superior (b):\n"
       },
       "output_type": "stream",
       "value": "10"
      }
     }
    }
   },
   "outputs": [
    {
     "name": "stdout",
     "output_type": "stream",
     "text": [
      "Ingrese el limite inferior (a):\n",
      "0\n",
      "INgrese el limite superior (b):\n",
      "0.8\n",
      "Valor aproximado:\n",
      "1.36746666666667\n",
      "\n",
      "Valor exacto:\n",
      "1.64053333333\n",
      "\n",
      "Error Real:\n",
      "0.273066666667\n",
      "\n",
      "Error Porcentual:\n",
      "16.644993498\n",
      "\n",
      "Error Aproximado:\n",
      "-2400.0\n",
      "0.273066666667\n"
     ]
    }
   ],
   "source": [
    " def simpson_13(fcn,a,b,c):\n",
    "\tDeltax = (b-a)*1.0/2;\n",
    "\treturn (Deltax/3)*(f(a)+4*f(c)+f(b))\n",
    "\n",
    "a=float(input(\"Ingrese el limite inferior (a):\\n\"))\n",
    "b=float(input(\"INgrese el limite superior (b):\\n\"))\n",
    "c=(a+b)/2;\n",
    "f(x)=400*x^5-900*x^4+675*x^3-200*x^2+25*x+0.2\n",
    "print(\"Valor aproximado:\")\n",
    "print(simpson_13(f,a,b,c));\n",
    "VA=simpson_13(f,a,b,c);\n",
    "I=integral(f(x),x,a,b);\n",
    "I1=float(I);\n",
    "print(\"\\nValor exacto:\")\n",
    "print(I1);\n",
    "print(\"\\nError Real:\")\n",
    "ER=float(I-VA);\n",
    "print(ER)\n",
    "print(\"\\nError Porcentual:\")\n",
    "EP=float((ER/I1)*100);\n",
    "print(EP)\n",
    "print(\"\\nError Aproximado:\")\n",
    "g(x)=diff(f(x),x,3);\n",
    "SegDer=float(g(b)-g(a))/(b-a);\n",
    "ErAp=float(-1/2880*SegDer*(b-a)^5);\n",
    "print(ErAp);"
   ]
  },
  {
   "cell_type": "markdown",
   "metadata": {},
   "source": [
    "# REGLA DE SIMPSON $\\frac{1}{3}$ COMPUESTA.   \n",
    "En el caso de que el intervalo $[a, b]$ no sea lo suficientemente pequeño, el error al calcular la integral puede ser muy grande. Para ello, se recurre a la fórmula compuesta de Simpson o de segmentos múltiples, que consiste en dividir el intervalo $[a, b]$ en $n$ subintervalos iguales (con n par), de manera que  $h = \\frac{(b-a)}{n}$. Entonces la regla compuesta viene dada por:\n",
    "\n",
    "$$I \\approx \\frac{h}{3} [f(x_0) + 4f(x_1) + 2f(x_2) + 4f(x_3) + 2f(x_4) + \\dots + f(x_n)]$$\n",
    "O en su forma general:\n",
    "\n",
    "$$I \\approx \\frac{h}{3}\\left[f(x_0) + 4\\sum_{i=1,3,5,\\dots}^{n-1}f(x_i) + 2\\sum_{j=2,4,6,\\dots}^{n-2}f(x_j) + f(x_n)\\right]$$   \n",
    "Debido a que Simpson $\\frac{1}{3}$ usa parabolas para interpolar a la funciòn a integrar, tambièn se muestra una aproximaciòn de las mismas. Las lìneas rojas veticales marcan el fin de cada parabola, las parabolas aproximadas estàn en azul mientras que la funciòn a integrar està en verde."
   ]
  },
  {
   "cell_type": "code",
   "execution_count": 37,
   "metadata": {},
   "outputs": [
    {
     "name": "stdout",
     "output_type": "stream",
     "text": [
      "Ingrese el limite inferior (a):\n",
      "-2\n",
      "Ingrese el limite inferior (b):\n",
      "2\n",
      "Ingrese el  numero de subintervalos:\n",
      "4\n",
      "21.3333333333333\n"
     ]
    },
    {
     "data": {
      "image/png": "[encoded data removed]",
      "text/plain": [
       "Graphics object consisting of 8 graphics primitives"
      ]
     },
     "execution_count": 37,
     "metadata": {},
     "output_type": "execute_result"
    }
   ],
   "source": [
    "def simpson_13C(fcn,a,b,n):\n",
    "# output: simpsons rule approx of int_a^b fcn(x)dx using n steps (n must be an even integer)\n",
    "\tDeltax = (b-a)*1.0/n\n",
    "\tn2=int(n/2)\n",
    "\tcoeffs = [4,2]*n2\n",
    "\tcoeffs = [1] +coeffs[:n-1]+[1]\n",
    "\tvalsf = [fcn(a+Deltax*i) for i in range(n+1)]\n",
    "\treturn (Deltax/3)*sum([coeffs[i]*valsf[i] for i in range(n+1)])\n",
    "\n",
    "f(x)=(24*x^3-36*x^2+64)/3\n",
    "a=float(input(\"Ingrese el limite inferior (a):\\n\"))\n",
    "b=float(input(\"Ingrese el limite inferior (b):\\n\"))\n",
    "n=int(input(\"Ingrese el  numero de subintervalos:\\n\"))\n",
    "print(simpson_13C(f,a,b,n).n());\n",
    "VA=simpson_13C(f,a,b,c);\n",
    "I=integral(f(x),x,a,b);\n",
    "I1=float(I);\n",
    "print(\"\\nValor exacto:\")\n",
    "print(I1);\n",
    "print(\"\\nError Real:\")\n",
    "ER=float(I-VA);\n",
    "print(ER)\n",
    "print(\"\\nError Porcentual:\")\n",
    "EP=float((ER/I1)*100);\n",
    "print(EP)\n",
    "print(\"\\nError Aproximado:\")\n",
    "g(x)=diff(f(x),x,3);\n",
    "SegDer=float(g(b)-g(a))/(b-a);\n",
    "ErAp=float(-1/180*SegDer*(b-a)^4);\n",
    "print(ErAp);\n",
    "dx=(b-a)/n\n",
    "v=[a]\n",
    "w=[f(a)]\n",
    "p=plot(f,(a,b),color='green')\n",
    "for i in [0..n-1]:\n",
    "    v=v+[a+(i+1)*dx]\n",
    "    w=w+[f(a+(i+1)*dx)]\n",
    "for i in [0,2..n-1]:\n",
    "    A, B, C = var('A B C')\n",
    "    eqn1=A*v[i]^2+B*v[i]+C==w[i]\n",
    "    eqn2=A*v[i+1]^2+B*v[i+1]+C==w[i+1]\n",
    "    eqn3=A*v[i+2]^2+B*v[i+2]+C==w[i+2]\n",
    "    coeff=solve([eqn1,eqn2,eqn3],A,B,C)\n",
    "    A=coeff[0][0].rhs();B=coeff[0][1].rhs();C=coeff[0][2].rhs()\n",
    "    p+=plot(A*x^2+B*x+C,(v[i],v[i+2]),fill='axis')+line([(v[i],0),(v[i],f(v[i]))],color='red',linestyle='--')\n",
    "p+=line([(v[n],0),(v[n],f(v[n]))],color='red',linestyle='--');p"
   ]
  },
  {
   "cell_type": "markdown",
   "metadata": {},
   "source": [
    "# REGLA DE SIMPSON $\\frac{3}{8}$ SIMPLE"
   ]
  },
  {
   "cell_type": "code",
   "execution_count": 24,
   "metadata": {
    "cocalc": {
     "outputs": {
      "0": {
       "name": "input",
       "opts": {
        "password": false,
        "prompt": "Ingrese el limite inferior (a):\n"
       },
       "output_type": "stream",
       "value": "1"
      },
      "1": {
       "name": "input",
       "opts": {
        "password": false,
        "prompt": "Ingrese el limite inferior (b):\n"
       },
       "output_type": "stream",
       "value": "10"
      }
     }
    }
   },
   "outputs": [
    {
     "name": "stdout",
     "output_type": "stream",
     "text": [
      "Ingrese el limite inferior (a):\n",
      "1\n",
      "Ingrese el limite inferior (b):\n",
      "3\n",
      "Valor aproximado:\n",
      "103205.0\n"
     ]
    }
   ],
   "source": [
    "f(x)=x^10-x^4+2*x\n",
    "a=float(input(\"Ingrese el limite inferior (a):\\n\"))\n",
    "b=float(input(\"Ingrese el limite inferior (b):\\n\"))\n",
    "h=(b-a)*1.0/3\n",
    "p=a\n",
    "suma=1-1;\n",
    "for i in [2..3]:\n",
    "   p+=p+h;\n",
    "   suma=suma+3*f(b)\n",
    "aprox=((b-a)/8)*(f(a)+suma+f(b))\n",
    "\n",
    "print(\"Valor aproximado:\")\n",
    "print(aprox)\n",
    "VA=aprox;\n",
    "I=integral(f(x),x,a,b);\n",
    "I1=float(I);\n",
    "print(\"\\nValor exacto:\")\n",
    "print(I1);\n",
    "print(\"\\nError Real:\")\n",
    "ER=float(I-VA);\n",
    "print(ER)\n",
    "print(\"\\nError Porcentual:\")\n",
    "EP=float((ER/I1)*100);\n",
    "print(EP)\n",
    "print(\"\\nError Aproximado:\")\n",
    "g(x)=diff(f(x),x,3);\n",
    "SegDer=float(g(b)-g(a))/(b-a);\n",
    "ErAp=float(-3/80*SegDer*(b-a)^5);\n",
    "print(ErAp);\n",
    "\n",
    "\n"
   ]
  },
  {
   "cell_type": "markdown",
   "metadata": {},
   "source": [
    "# REGLA DE SIMPSON $\\frac{3}{8}$ COMPUESTA."
   ]
  },
  {
   "cell_type": "code",
   "execution_count": 25,
   "metadata": {},
   "outputs": [
    {
     "name": "stdout",
     "output_type": "stream",
     "text": [
      "Ingrese el limite inferior (a):\n",
      "3\n",
      "Ingrese el limite inferior (b):\n",
      "9\n",
      "INgrese el  numero de subintervalos:\n",
      "6\n",
      "Valor aproximado:\n",
      "5.38056262500000e6\n"
     ]
    }
   ],
   "source": [
    "f(x)=x^7+2*x\n",
    "a=float(input(\"Ingrese el limite inferior (a):\\n\"))\n",
    "b=float(input(\"Ingrese el limite inferior (b):\\n\"))\n",
    "n=int(input(\"INgrese el  numero de subintervalos:\\n\"))\n",
    "h=((b-a)*1.0)/(2*n)\n",
    "f0=1.1-1.1;\n",
    "for i in [1..(n-1)]:\n",
    "    x=a+h*(2*i);\n",
    "    f0=f0+f(x)\n",
    "f1=1-1;\n",
    "for i in [1..n]:\n",
    "    x=a+h*(2*i-1);\n",
    "    f1=f1+f(x);\n",
    "f0=2*f0+4*f1;\n",
    "f0=f0+f(a)+f(b)\n",
    "aprox=(h/3)*f0;\n",
    "print(\"Valor aproximado:\")\n",
    "print(aprox)\n",
    "I=integral(f(x),x,a,b);\n",
    "I1=float(I);\n",
    "print(\"\\nValor exacto:\")\n",
    "print(I1);\n",
    "print(\"\\nError Real:\")\n",
    "ER=float(I-VA);\n",
    "print(ER)\n",
    "print(\"\\nError Porcentual:\")\n",
    "EP=float((ER/I1)*100);\n",
    "print(EP)\n",
    "print(\"\\nError Aproximado:\")\n",
    "g(x)=diff(f(x),x,3);\n",
    "SegDer=float(g(b)-g(a))/(b-a);\n",
    "ErAp=float(-3/80*SegDer*(b-a)^5);\n",
    "print(ErAp);\n",
    "\n",
    "    \n",
    "    "
   ]
  }
 ],
 "metadata": {
  "kernelspec": {
   "display_name": "SageMath 8.6",
   "language": "",
   "name": "sagemath"
  },
  "language_info": {
   "codemirror_mode": {
    "name": "ipython",
    "version": 2
   },
   "file_extension": ".py",
   "mimetype": "text/x-python",
   "name": "python",
   "nbconvert_exporter": "python",
   "pygments_lexer": "ipython2",
   "version": "2.7.16"
  }
 },
 "nbformat": 4,
 "nbformat_minor": 4
}
